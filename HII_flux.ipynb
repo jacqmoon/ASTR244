{
 "cells": [
  {
   "cell_type": "code",
   "execution_count": 37,
   "metadata": {},
   "outputs": [],
   "source": [
    "import numpy as np\n",
    "import matplotlib\n",
    "import matplotlib.pyplot as plt\n",
    "import pandas as pd"
   ]
  },
  {
   "cell_type": "code",
   "execution_count": 38,
   "metadata": {},
   "outputs": [],
   "source": [
    "M42 = pd.read_csv(\"M42_convert.csv\")\n",
    "NGC2174_cal_3_4 = pd.read_csv(\"NGC2174_calstar_3_4.csv\")\n",
    "NGC2174_cal_3_16 = pd.read_csv(\"NGC2174_calstar_3_16.csv\")\n",
    "NGC2174_tau_3_4 = pd.read_csv(\"NGC2174_tau_3_4.csv\")\n",
    "NGC2174_tau_3_16 = pd.read_csv(\"NGC2174_tau_3_16_2.csv\")\n",
    "\n",
    "#mag of M42 cal = 9.5\n",
    "#mag of NGC2174 cal = 9.8"
   ]
  },
  {
   "cell_type": "code",
   "execution_count": 39,
   "metadata": {},
   "outputs": [],
   "source": [
    "M42[\"signal\"] = M42[\"Star[DN]\"] / M42[\"Exposure\"]\n",
    "M42[\"convertfactor\"] = ( M42[\"f_0\"] * 10**(-9.5/2.5) ) / M42[\"signal\"]"
   ]
  },
  {
   "cell_type": "code",
   "execution_count": 40,
   "metadata": {},
   "outputs": [],
   "source": [
    "new_M42 = pd.concat([M42.iloc[:,0], M42.iloc[:,-1]], axis=1)"
   ]
  },
  {
   "cell_type": "code",
   "execution_count": 42,
   "metadata": {
    "scrolled": true
   },
   "outputs": [
    {
     "data": {
      "text/html": [
       "<div>\n",
       "<style scoped>\n",
       "    .dataframe tbody tr th:only-of-type {\n",
       "        vertical-align: middle;\n",
       "    }\n",
       "\n",
       "    .dataframe tbody tr th {\n",
       "        vertical-align: top;\n",
       "    }\n",
       "\n",
       "    .dataframe thead th {\n",
       "        text-align: right;\n",
       "    }\n",
       "</style>\n",
       "<table border=\"1\" class=\"dataframe\">\n",
       "  <thead>\n",
       "    <tr style=\"text-align: right;\">\n",
       "      <th></th>\n",
       "      <th>Image # - M42/M43</th>\n",
       "      <th>CENTALT</th>\n",
       "      <th>Elevation Angle</th>\n",
       "      <th>Filter</th>\n",
       "      <th>Exposure</th>\n",
       "      <th>STD</th>\n",
       "      <th>Sec(z)</th>\n",
       "      <th>Star[DN]</th>\n",
       "      <th>Star Uncertainty</th>\n",
       "      <th>FWHM</th>\n",
       "      <th>radii</th>\n",
       "      <th>f_0</th>\n",
       "      <th>signal</th>\n",
       "      <th>convertfactor</th>\n",
       "    </tr>\n",
       "  </thead>\n",
       "  <tbody>\n",
       "    <tr>\n",
       "      <th>0</th>\n",
       "      <td>154</td>\n",
       "      <td>33.522761</td>\n",
       "      <td>56.477239</td>\n",
       "      <td>R</td>\n",
       "      <td>45</td>\n",
       "      <td>16.45</td>\n",
       "      <td>1.810714</td>\n",
       "      <td>NaN</td>\n",
       "      <td>NaN</td>\n",
       "      <td>NaN</td>\n",
       "      <td>NaN</td>\n",
       "      <td>NaN</td>\n",
       "      <td>NaN</td>\n",
       "      <td>NaN</td>\n",
       "    </tr>\n",
       "    <tr>\n",
       "      <th>1</th>\n",
       "      <td>153</td>\n",
       "      <td>33.627465</td>\n",
       "      <td>56.372535</td>\n",
       "      <td>R</td>\n",
       "      <td>45</td>\n",
       "      <td>16.48</td>\n",
       "      <td>1.805736</td>\n",
       "      <td>NaN</td>\n",
       "      <td>NaN</td>\n",
       "      <td>NaN</td>\n",
       "      <td>NaN</td>\n",
       "      <td>NaN</td>\n",
       "      <td>NaN</td>\n",
       "      <td>NaN</td>\n",
       "    </tr>\n",
       "    <tr>\n",
       "      <th>2</th>\n",
       "      <td>152</td>\n",
       "      <td>33.731373</td>\n",
       "      <td>56.268627</td>\n",
       "      <td>R</td>\n",
       "      <td>45</td>\n",
       "      <td>16.27</td>\n",
       "      <td>1.800829</td>\n",
       "      <td>NaN</td>\n",
       "      <td>NaN</td>\n",
       "      <td>NaN</td>\n",
       "      <td>NaN</td>\n",
       "      <td>NaN</td>\n",
       "      <td>NaN</td>\n",
       "      <td>NaN</td>\n",
       "    </tr>\n",
       "    <tr>\n",
       "      <th>3</th>\n",
       "      <td>150</td>\n",
       "      <td>33.999871</td>\n",
       "      <td>56.000129</td>\n",
       "      <td>G</td>\n",
       "      <td>45</td>\n",
       "      <td>13.95</td>\n",
       "      <td>1.788298</td>\n",
       "      <td>NaN</td>\n",
       "      <td>NaN</td>\n",
       "      <td>NaN</td>\n",
       "      <td>NaN</td>\n",
       "      <td>NaN</td>\n",
       "      <td>NaN</td>\n",
       "      <td>NaN</td>\n",
       "    </tr>\n",
       "    <tr>\n",
       "      <th>4</th>\n",
       "      <td>149</td>\n",
       "      <td>34.102145</td>\n",
       "      <td>55.897855</td>\n",
       "      <td>G</td>\n",
       "      <td>45</td>\n",
       "      <td>13.57</td>\n",
       "      <td>1.783580</td>\n",
       "      <td>NaN</td>\n",
       "      <td>NaN</td>\n",
       "      <td>NaN</td>\n",
       "      <td>NaN</td>\n",
       "      <td>NaN</td>\n",
       "      <td>NaN</td>\n",
       "      <td>NaN</td>\n",
       "    </tr>\n",
       "    <tr>\n",
       "      <th>5</th>\n",
       "      <td>148</td>\n",
       "      <td>34.203854</td>\n",
       "      <td>55.796146</td>\n",
       "      <td>G</td>\n",
       "      <td>45</td>\n",
       "      <td>14.25</td>\n",
       "      <td>1.778919</td>\n",
       "      <td>NaN</td>\n",
       "      <td>NaN</td>\n",
       "      <td>NaN</td>\n",
       "      <td>NaN</td>\n",
       "      <td>NaN</td>\n",
       "      <td>NaN</td>\n",
       "      <td>NaN</td>\n",
       "    </tr>\n",
       "    <tr>\n",
       "      <th>6</th>\n",
       "      <td>146</td>\n",
       "      <td>34.467580</td>\n",
       "      <td>55.532420</td>\n",
       "      <td>B</td>\n",
       "      <td>45</td>\n",
       "      <td>14.98</td>\n",
       "      <td>1.766972</td>\n",
       "      <td>NaN</td>\n",
       "      <td>NaN</td>\n",
       "      <td>NaN</td>\n",
       "      <td>NaN</td>\n",
       "      <td>NaN</td>\n",
       "      <td>NaN</td>\n",
       "      <td>NaN</td>\n",
       "    </tr>\n",
       "    <tr>\n",
       "      <th>7</th>\n",
       "      <td>145</td>\n",
       "      <td>34.567363</td>\n",
       "      <td>55.432637</td>\n",
       "      <td>B</td>\n",
       "      <td>45</td>\n",
       "      <td>14.36</td>\n",
       "      <td>1.762503</td>\n",
       "      <td>NaN</td>\n",
       "      <td>NaN</td>\n",
       "      <td>NaN</td>\n",
       "      <td>NaN</td>\n",
       "      <td>NaN</td>\n",
       "      <td>NaN</td>\n",
       "      <td>NaN</td>\n",
       "    </tr>\n",
       "    <tr>\n",
       "      <th>8</th>\n",
       "      <td>144</td>\n",
       "      <td>34.666632</td>\n",
       "      <td>55.333368</td>\n",
       "      <td>B</td>\n",
       "      <td>45</td>\n",
       "      <td>13.84</td>\n",
       "      <td>1.758085</td>\n",
       "      <td>NaN</td>\n",
       "      <td>NaN</td>\n",
       "      <td>NaN</td>\n",
       "      <td>NaN</td>\n",
       "      <td>NaN</td>\n",
       "      <td>NaN</td>\n",
       "      <td>NaN</td>\n",
       "    </tr>\n",
       "    <tr>\n",
       "      <th>9</th>\n",
       "      <td>142</td>\n",
       "      <td>35.443813</td>\n",
       "      <td>54.556187</td>\n",
       "      <td>Hb</td>\n",
       "      <td>300</td>\n",
       "      <td>14.95</td>\n",
       "      <td>1.724422</td>\n",
       "      <td>595325.0</td>\n",
       "      <td>1187.520</td>\n",
       "      <td>7.82</td>\n",
       "      <td>13-18-23</td>\n",
       "      <td>9.840000e-08</td>\n",
       "      <td>1984.416667</td>\n",
       "      <td>7.858909e-15</td>\n",
       "    </tr>\n",
       "    <tr>\n",
       "      <th>10</th>\n",
       "      <td>141</td>\n",
       "      <td>35.983756</td>\n",
       "      <td>54.016244</td>\n",
       "      <td>Hb</td>\n",
       "      <td>300</td>\n",
       "      <td>15.14</td>\n",
       "      <td>1.701966</td>\n",
       "      <td>592620.0</td>\n",
       "      <td>1283.600</td>\n",
       "      <td>8.21</td>\n",
       "      <td>14-19-24</td>\n",
       "      <td>9.840000e-08</td>\n",
       "      <td>1975.400000</td>\n",
       "      <td>7.894780e-15</td>\n",
       "    </tr>\n",
       "    <tr>\n",
       "      <th>11</th>\n",
       "      <td>140</td>\n",
       "      <td>36.504839</td>\n",
       "      <td>53.495161</td>\n",
       "      <td>Hb</td>\n",
       "      <td>300</td>\n",
       "      <td>15.58</td>\n",
       "      <td>1.680981</td>\n",
       "      <td>509748.0</td>\n",
       "      <td>1251.560</td>\n",
       "      <td>9.25</td>\n",
       "      <td>15-20-25</td>\n",
       "      <td>9.840000e-08</td>\n",
       "      <td>1699.160000</td>\n",
       "      <td>9.178270e-15</td>\n",
       "    </tr>\n",
       "    <tr>\n",
       "      <th>12</th>\n",
       "      <td>139</td>\n",
       "      <td>36.620638</td>\n",
       "      <td>53.379362</td>\n",
       "      <td>Hb</td>\n",
       "      <td>30</td>\n",
       "      <td>8.70</td>\n",
       "      <td>1.676407</td>\n",
       "      <td>48662.5</td>\n",
       "      <td>487.801</td>\n",
       "      <td>7.54</td>\n",
       "      <td>15-20-26</td>\n",
       "      <td>9.840000e-08</td>\n",
       "      <td>1622.083333</td>\n",
       "      <td>9.614394e-15</td>\n",
       "    </tr>\n",
       "    <tr>\n",
       "      <th>13</th>\n",
       "      <td>138</td>\n",
       "      <td>36.682722</td>\n",
       "      <td>53.317278</td>\n",
       "      <td>Hb</td>\n",
       "      <td>30</td>\n",
       "      <td>8.93</td>\n",
       "      <td>1.673967</td>\n",
       "      <td>43085.1</td>\n",
       "      <td>435.769</td>\n",
       "      <td>6.81</td>\n",
       "      <td>14-19-23</td>\n",
       "      <td>9.840000e-08</td>\n",
       "      <td>1436.170000</td>\n",
       "      <td>1.085899e-14</td>\n",
       "    </tr>\n",
       "    <tr>\n",
       "      <th>14</th>\n",
       "      <td>137</td>\n",
       "      <td>36.746254</td>\n",
       "      <td>53.253746</td>\n",
       "      <td>Hb</td>\n",
       "      <td>30</td>\n",
       "      <td>9.17</td>\n",
       "      <td>1.671480</td>\n",
       "      <td>41759.3</td>\n",
       "      <td>439.503</td>\n",
       "      <td>7.00</td>\n",
       "      <td>14-19-24</td>\n",
       "      <td>9.840000e-08</td>\n",
       "      <td>1391.976667</td>\n",
       "      <td>1.120374e-14</td>\n",
       "    </tr>\n",
       "    <tr>\n",
       "      <th>15</th>\n",
       "      <td>135</td>\n",
       "      <td>37.343118</td>\n",
       "      <td>52.656882</td>\n",
       "      <td>S</td>\n",
       "      <td>300</td>\n",
       "      <td>12.34</td>\n",
       "      <td>1.648568</td>\n",
       "      <td>371374.0</td>\n",
       "      <td>749.747</td>\n",
       "      <td>6.92</td>\n",
       "      <td>12-17-22</td>\n",
       "      <td>1.630000e-07</td>\n",
       "      <td>1237.913333</td>\n",
       "      <td>2.086879e-14</td>\n",
       "    </tr>\n",
       "    <tr>\n",
       "      <th>16</th>\n",
       "      <td>134</td>\n",
       "      <td>37.855360</td>\n",
       "      <td>52.144640</td>\n",
       "      <td>S</td>\n",
       "      <td>300</td>\n",
       "      <td>11.98</td>\n",
       "      <td>1.629540</td>\n",
       "      <td>438679.0</td>\n",
       "      <td>821.416</td>\n",
       "      <td>6.43</td>\n",
       "      <td>12-17-22</td>\n",
       "      <td>1.630000e-07</td>\n",
       "      <td>1462.263333</td>\n",
       "      <td>1.766697e-14</td>\n",
       "    </tr>\n",
       "    <tr>\n",
       "      <th>17</th>\n",
       "      <td>133</td>\n",
       "      <td>38.295038</td>\n",
       "      <td>51.704962</td>\n",
       "      <td>S</td>\n",
       "      <td>300</td>\n",
       "      <td>11.80</td>\n",
       "      <td>1.613655</td>\n",
       "      <td>428046.0</td>\n",
       "      <td>840.487</td>\n",
       "      <td>6.24</td>\n",
       "      <td>12-17-22</td>\n",
       "      <td>1.630000e-07</td>\n",
       "      <td>1426.820000</td>\n",
       "      <td>1.810583e-14</td>\n",
       "    </tr>\n",
       "    <tr>\n",
       "      <th>18</th>\n",
       "      <td>132</td>\n",
       "      <td>38.349097</td>\n",
       "      <td>51.650903</td>\n",
       "      <td>S</td>\n",
       "      <td>30</td>\n",
       "      <td>7.84</td>\n",
       "      <td>1.611730</td>\n",
       "      <td>41652.3</td>\n",
       "      <td>369.100</td>\n",
       "      <td>6.09</td>\n",
       "      <td>12-17-22</td>\n",
       "      <td>1.630000e-07</td>\n",
       "      <td>1388.410000</td>\n",
       "      <td>1.860672e-14</td>\n",
       "    </tr>\n",
       "    <tr>\n",
       "      <th>19</th>\n",
       "      <td>131</td>\n",
       "      <td>38.401689</td>\n",
       "      <td>51.598311</td>\n",
       "      <td>S</td>\n",
       "      <td>30</td>\n",
       "      <td>8.08</td>\n",
       "      <td>1.609863</td>\n",
       "      <td>38294.2</td>\n",
       "      <td>351.483</td>\n",
       "      <td>5.56</td>\n",
       "      <td>12-17-22</td>\n",
       "      <td>1.630000e-07</td>\n",
       "      <td>1276.473333</td>\n",
       "      <td>2.023839e-14</td>\n",
       "    </tr>\n",
       "    <tr>\n",
       "      <th>20</th>\n",
       "      <td>130</td>\n",
       "      <td>38.453793</td>\n",
       "      <td>51.546207</td>\n",
       "      <td>S</td>\n",
       "      <td>30</td>\n",
       "      <td>7.90</td>\n",
       "      <td>1.608019</td>\n",
       "      <td>37891.1</td>\n",
       "      <td>344.730</td>\n",
       "      <td>6.17</td>\n",
       "      <td>12-17-22</td>\n",
       "      <td>1.630000e-07</td>\n",
       "      <td>1263.036667</td>\n",
       "      <td>2.045369e-14</td>\n",
       "    </tr>\n",
       "    <tr>\n",
       "      <th>21</th>\n",
       "      <td>128</td>\n",
       "      <td>38.952994</td>\n",
       "      <td>51.047006</td>\n",
       "      <td>Ha</td>\n",
       "      <td>300</td>\n",
       "      <td>39.76</td>\n",
       "      <td>1.590628</td>\n",
       "      <td>397010.0</td>\n",
       "      <td>3155.950</td>\n",
       "      <td>6.24</td>\n",
       "      <td>12-17-22</td>\n",
       "      <td>1.310000e-07</td>\n",
       "      <td>1323.366667</td>\n",
       "      <td>1.568885e-14</td>\n",
       "    </tr>\n",
       "    <tr>\n",
       "      <th>22</th>\n",
       "      <td>127</td>\n",
       "      <td>39.333103</td>\n",
       "      <td>50.666897</td>\n",
       "      <td>Ha</td>\n",
       "      <td>300</td>\n",
       "      <td>37.48</td>\n",
       "      <td>1.577715</td>\n",
       "      <td>472224.0</td>\n",
       "      <td>3637.620</td>\n",
       "      <td>6.32</td>\n",
       "      <td>12-17-22</td>\n",
       "      <td>1.310000e-07</td>\n",
       "      <td>1574.080000</td>\n",
       "      <td>1.318999e-14</td>\n",
       "    </tr>\n",
       "    <tr>\n",
       "      <th>23</th>\n",
       "      <td>126</td>\n",
       "      <td>39.690178</td>\n",
       "      <td>50.309822</td>\n",
       "      <td>Ha</td>\n",
       "      <td>300</td>\n",
       "      <td>36.36</td>\n",
       "      <td>1.565837</td>\n",
       "      <td>505137.0</td>\n",
       "      <td>4428.080</td>\n",
       "      <td>7.59</td>\n",
       "      <td>13-18-23</td>\n",
       "      <td>1.310000e-07</td>\n",
       "      <td>1683.790000</td>\n",
       "      <td>1.233058e-14</td>\n",
       "    </tr>\n",
       "    <tr>\n",
       "      <th>24</th>\n",
       "      <td>125</td>\n",
       "      <td>39.733634</td>\n",
       "      <td>50.266366</td>\n",
       "      <td>Ha</td>\n",
       "      <td>30</td>\n",
       "      <td>26.98</td>\n",
       "      <td>1.564408</td>\n",
       "      <td>46811.9</td>\n",
       "      <td>576.580</td>\n",
       "      <td>5.93</td>\n",
       "      <td>11-16-21</td>\n",
       "      <td>1.310000e-07</td>\n",
       "      <td>1560.396667</td>\n",
       "      <td>1.330566e-14</td>\n",
       "    </tr>\n",
       "    <tr>\n",
       "      <th>25</th>\n",
       "      <td>124</td>\n",
       "      <td>39.775361</td>\n",
       "      <td>50.224639</td>\n",
       "      <td>Ha</td>\n",
       "      <td>30</td>\n",
       "      <td>29.68</td>\n",
       "      <td>1.563039</td>\n",
       "      <td>50286.1</td>\n",
       "      <td>578.000</td>\n",
       "      <td>6.23</td>\n",
       "      <td>11-16-21</td>\n",
       "      <td>1.310000e-07</td>\n",
       "      <td>1676.203333</td>\n",
       "      <td>1.238639e-14</td>\n",
       "    </tr>\n",
       "    <tr>\n",
       "      <th>26</th>\n",
       "      <td>123</td>\n",
       "      <td>39.816617</td>\n",
       "      <td>50.183383</td>\n",
       "      <td>Ha</td>\n",
       "      <td>30</td>\n",
       "      <td>27.92</td>\n",
       "      <td>1.561689</td>\n",
       "      <td>51205.2</td>\n",
       "      <td>626.321</td>\n",
       "      <td>5.78</td>\n",
       "      <td>11-16-21</td>\n",
       "      <td>1.310000e-07</td>\n",
       "      <td>1706.840000</td>\n",
       "      <td>1.216406e-14</td>\n",
       "    </tr>\n",
       "    <tr>\n",
       "      <th>27</th>\n",
       "      <td>121</td>\n",
       "      <td>39.971343</td>\n",
       "      <td>50.028657</td>\n",
       "      <td>O</td>\n",
       "      <td>30</td>\n",
       "      <td>8.87</td>\n",
       "      <td>1.556652</td>\n",
       "      <td>100650.0</td>\n",
       "      <td>455.214</td>\n",
       "      <td>6.32</td>\n",
       "      <td>12-17-22</td>\n",
       "      <td>4.220000e-07</td>\n",
       "      <td>3355.000000</td>\n",
       "      <td>1.993517e-14</td>\n",
       "    </tr>\n",
       "    <tr>\n",
       "      <th>28</th>\n",
       "      <td>120</td>\n",
       "      <td>40.013146</td>\n",
       "      <td>49.986854</td>\n",
       "      <td>O</td>\n",
       "      <td>30</td>\n",
       "      <td>8.94</td>\n",
       "      <td>1.555299</td>\n",
       "      <td>101315.0</td>\n",
       "      <td>463.196</td>\n",
       "      <td>5.60</td>\n",
       "      <td>12-17-22</td>\n",
       "      <td>4.220000e-07</td>\n",
       "      <td>3377.166667</td>\n",
       "      <td>1.980432e-14</td>\n",
       "    </tr>\n",
       "    <tr>\n",
       "      <th>29</th>\n",
       "      <td>119</td>\n",
       "      <td>40.085171</td>\n",
       "      <td>49.914829</td>\n",
       "      <td>O</td>\n",
       "      <td>30</td>\n",
       "      <td>8.64</td>\n",
       "      <td>1.552974</td>\n",
       "      <td>100112.0</td>\n",
       "      <td>443.824</td>\n",
       "      <td>5.90</td>\n",
       "      <td>12-17-22</td>\n",
       "      <td>4.220000e-07</td>\n",
       "      <td>3337.066667</td>\n",
       "      <td>2.004230e-14</td>\n",
       "    </tr>\n",
       "    <tr>\n",
       "      <th>30</th>\n",
       "      <td>118</td>\n",
       "      <td>40.123953</td>\n",
       "      <td>49.876047</td>\n",
       "      <td>O</td>\n",
       "      <td>30</td>\n",
       "      <td>8.82</td>\n",
       "      <td>1.551727</td>\n",
       "      <td>99469.0</td>\n",
       "      <td>472.149</td>\n",
       "      <td>5.33</td>\n",
       "      <td>12-17-22</td>\n",
       "      <td>4.220000e-07</td>\n",
       "      <td>3315.633333</td>\n",
       "      <td>2.017186e-14</td>\n",
       "    </tr>\n",
       "    <tr>\n",
       "      <th>31</th>\n",
       "      <td>117</td>\n",
       "      <td>40.422960</td>\n",
       "      <td>49.577040</td>\n",
       "      <td>O</td>\n",
       "      <td>300</td>\n",
       "      <td>24.80</td>\n",
       "      <td>1.542198</td>\n",
       "      <td>1030000.0</td>\n",
       "      <td>2041.400</td>\n",
       "      <td>6.66</td>\n",
       "      <td>15</td>\n",
       "      <td>4.220000e-07</td>\n",
       "      <td>3433.333333</td>\n",
       "      <td>1.948034e-14</td>\n",
       "    </tr>\n",
       "    <tr>\n",
       "      <th>32</th>\n",
       "      <td>116</td>\n",
       "      <td>40.695153</td>\n",
       "      <td>49.304847</td>\n",
       "      <td>O</td>\n",
       "      <td>300</td>\n",
       "      <td>24.01</td>\n",
       "      <td>1.533662</td>\n",
       "      <td>1070000.0</td>\n",
       "      <td>2089.490</td>\n",
       "      <td>7.65</td>\n",
       "      <td>15</td>\n",
       "      <td>4.220000e-07</td>\n",
       "      <td>3566.666667</td>\n",
       "      <td>1.875210e-14</td>\n",
       "    </tr>\n",
       "    <tr>\n",
       "      <th>33</th>\n",
       "      <td>115</td>\n",
       "      <td>40.967499</td>\n",
       "      <td>49.032501</td>\n",
       "      <td>O</td>\n",
       "      <td>300</td>\n",
       "      <td>23.91</td>\n",
       "      <td>1.525249</td>\n",
       "      <td>1110000.0</td>\n",
       "      <td>2163.510</td>\n",
       "      <td>7.73</td>\n",
       "      <td>15</td>\n",
       "      <td>4.220000e-07</td>\n",
       "      <td>3700.000000</td>\n",
       "      <td>1.807635e-14</td>\n",
       "    </tr>\n",
       "  </tbody>\n",
       "</table>\n",
       "</div>"
      ],
      "text/plain": [
       "    Image # - M42/M43    CENTALT  Elevation Angle Filter  Exposure    STD  \\\n",
       "0                 154  33.522761        56.477239      R        45  16.45   \n",
       "1                 153  33.627465        56.372535      R        45  16.48   \n",
       "2                 152  33.731373        56.268627      R        45  16.27   \n",
       "3                 150  33.999871        56.000129      G        45  13.95   \n",
       "4                 149  34.102145        55.897855      G        45  13.57   \n",
       "5                 148  34.203854        55.796146      G        45  14.25   \n",
       "6                 146  34.467580        55.532420      B        45  14.98   \n",
       "7                 145  34.567363        55.432637      B        45  14.36   \n",
       "8                 144  34.666632        55.333368      B        45  13.84   \n",
       "9                 142  35.443813        54.556187     Hb       300  14.95   \n",
       "10                141  35.983756        54.016244     Hb       300  15.14   \n",
       "11                140  36.504839        53.495161     Hb       300  15.58   \n",
       "12                139  36.620638        53.379362     Hb        30   8.70   \n",
       "13                138  36.682722        53.317278     Hb        30   8.93   \n",
       "14                137  36.746254        53.253746     Hb        30   9.17   \n",
       "15                135  37.343118        52.656882      S       300  12.34   \n",
       "16                134  37.855360        52.144640      S       300  11.98   \n",
       "17                133  38.295038        51.704962      S       300  11.80   \n",
       "18                132  38.349097        51.650903      S        30   7.84   \n",
       "19                131  38.401689        51.598311      S        30   8.08   \n",
       "20                130  38.453793        51.546207      S        30   7.90   \n",
       "21                128  38.952994        51.047006     Ha       300  39.76   \n",
       "22                127  39.333103        50.666897     Ha       300  37.48   \n",
       "23                126  39.690178        50.309822     Ha       300  36.36   \n",
       "24                125  39.733634        50.266366     Ha        30  26.98   \n",
       "25                124  39.775361        50.224639     Ha        30  29.68   \n",
       "26                123  39.816617        50.183383     Ha        30  27.92   \n",
       "27                121  39.971343        50.028657      O        30   8.87   \n",
       "28                120  40.013146        49.986854      O        30   8.94   \n",
       "29                119  40.085171        49.914829      O        30   8.64   \n",
       "30                118  40.123953        49.876047      O        30   8.82   \n",
       "31                117  40.422960        49.577040      O       300  24.80   \n",
       "32                116  40.695153        49.304847      O       300  24.01   \n",
       "33                115  40.967499        49.032501      O       300  23.91   \n",
       "\n",
       "      Sec(z)   Star[DN]  Star Uncertainty  FWHM     radii           f_0  \\\n",
       "0   1.810714        NaN               NaN   NaN       NaN           NaN   \n",
       "1   1.805736        NaN               NaN   NaN       NaN           NaN   \n",
       "2   1.800829        NaN               NaN   NaN       NaN           NaN   \n",
       "3   1.788298        NaN               NaN   NaN       NaN           NaN   \n",
       "4   1.783580        NaN               NaN   NaN       NaN           NaN   \n",
       "5   1.778919        NaN               NaN   NaN       NaN           NaN   \n",
       "6   1.766972        NaN               NaN   NaN       NaN           NaN   \n",
       "7   1.762503        NaN               NaN   NaN       NaN           NaN   \n",
       "8   1.758085        NaN               NaN   NaN       NaN           NaN   \n",
       "9   1.724422   595325.0          1187.520  7.82  13-18-23  9.840000e-08   \n",
       "10  1.701966   592620.0          1283.600  8.21  14-19-24  9.840000e-08   \n",
       "11  1.680981   509748.0          1251.560  9.25  15-20-25  9.840000e-08   \n",
       "12  1.676407    48662.5           487.801  7.54  15-20-26  9.840000e-08   \n",
       "13  1.673967    43085.1           435.769  6.81  14-19-23  9.840000e-08   \n",
       "14  1.671480    41759.3           439.503  7.00  14-19-24  9.840000e-08   \n",
       "15  1.648568   371374.0           749.747  6.92  12-17-22  1.630000e-07   \n",
       "16  1.629540   438679.0           821.416  6.43  12-17-22  1.630000e-07   \n",
       "17  1.613655   428046.0           840.487  6.24  12-17-22  1.630000e-07   \n",
       "18  1.611730    41652.3           369.100  6.09  12-17-22  1.630000e-07   \n",
       "19  1.609863    38294.2           351.483  5.56  12-17-22  1.630000e-07   \n",
       "20  1.608019    37891.1           344.730  6.17  12-17-22  1.630000e-07   \n",
       "21  1.590628   397010.0          3155.950  6.24  12-17-22  1.310000e-07   \n",
       "22  1.577715   472224.0          3637.620  6.32  12-17-22  1.310000e-07   \n",
       "23  1.565837   505137.0          4428.080  7.59  13-18-23  1.310000e-07   \n",
       "24  1.564408    46811.9           576.580  5.93  11-16-21  1.310000e-07   \n",
       "25  1.563039    50286.1           578.000  6.23  11-16-21  1.310000e-07   \n",
       "26  1.561689    51205.2           626.321  5.78  11-16-21  1.310000e-07   \n",
       "27  1.556652   100650.0           455.214  6.32  12-17-22  4.220000e-07   \n",
       "28  1.555299   101315.0           463.196  5.60  12-17-22  4.220000e-07   \n",
       "29  1.552974   100112.0           443.824  5.90  12-17-22  4.220000e-07   \n",
       "30  1.551727    99469.0           472.149  5.33  12-17-22  4.220000e-07   \n",
       "31  1.542198  1030000.0          2041.400  6.66        15  4.220000e-07   \n",
       "32  1.533662  1070000.0          2089.490  7.65        15  4.220000e-07   \n",
       "33  1.525249  1110000.0          2163.510  7.73        15  4.220000e-07   \n",
       "\n",
       "         signal  convertfactor  \n",
       "0           NaN            NaN  \n",
       "1           NaN            NaN  \n",
       "2           NaN            NaN  \n",
       "3           NaN            NaN  \n",
       "4           NaN            NaN  \n",
       "5           NaN            NaN  \n",
       "6           NaN            NaN  \n",
       "7           NaN            NaN  \n",
       "8           NaN            NaN  \n",
       "9   1984.416667   7.858909e-15  \n",
       "10  1975.400000   7.894780e-15  \n",
       "11  1699.160000   9.178270e-15  \n",
       "12  1622.083333   9.614394e-15  \n",
       "13  1436.170000   1.085899e-14  \n",
       "14  1391.976667   1.120374e-14  \n",
       "15  1237.913333   2.086879e-14  \n",
       "16  1462.263333   1.766697e-14  \n",
       "17  1426.820000   1.810583e-14  \n",
       "18  1388.410000   1.860672e-14  \n",
       "19  1276.473333   2.023839e-14  \n",
       "20  1263.036667   2.045369e-14  \n",
       "21  1323.366667   1.568885e-14  \n",
       "22  1574.080000   1.318999e-14  \n",
       "23  1683.790000   1.233058e-14  \n",
       "24  1560.396667   1.330566e-14  \n",
       "25  1676.203333   1.238639e-14  \n",
       "26  1706.840000   1.216406e-14  \n",
       "27  3355.000000   1.993517e-14  \n",
       "28  3377.166667   1.980432e-14  \n",
       "29  3337.066667   2.004230e-14  \n",
       "30  3315.633333   2.017186e-14  \n",
       "31  3433.333333   1.948034e-14  \n",
       "32  3566.666667   1.875210e-14  \n",
       "33  3700.000000   1.807635e-14  "
      ]
     },
     "execution_count": 42,
     "metadata": {},
     "output_type": "execute_result"
    }
   ],
   "source": [
    "M42"
   ]
  },
  {
   "cell_type": "code",
   "execution_count": 69,
   "metadata": {},
   "outputs": [],
   "source": [
    "STD = [12.07, 12.69, 26.53, 8.83]\n",
    "STD_arr = np.array(STD)\n",
    "f0 = [1.31e-07, 9.84e-08, 4.22e-07, 1.63e-07]\n",
    "f0_arr = np.array(f0)\n",
    "time = [300,300,300,300]\n",
    "time_arr = np.array(time)\n",
    "signal = (STD_arr * 5)/time_arr\n",
    "\n",
    "\n",
    "Ha_LL = ((f0_arr[0] * 10**(-9.5/2.5)) / signal[0])\n",
    "Hb_LL = ((f0_arr[1] * 10**(-9.5/2.5)) / signal[1])\n",
    "OIII_LL = ((f0_arr[2] * 10**(-9.5/2.5)) / signal[2])\n",
    "SII_LL = ((f0_arr[3] * 10**(-9.5/2.5)) / signal[3])"
   ]
  },
  {
   "cell_type": "code",
   "execution_count": 70,
   "metadata": {},
   "outputs": [
    {
     "name": "stdout",
     "output_type": "stream",
     "text": [
      "1.0320845478661439e-10, 7.373687476982205e-11, 1.5126082032836567e-10, 1.7554083150928307e-10\n"
     ]
    }
   ],
   "source": [
    "print(f'{Ha_LL}, {Hb_LL}, {OIII_LL}, {SII_LL}')"
   ]
  },
  {
   "cell_type": "markdown",
   "metadata": {},
   "source": [
    "### For 3/4"
   ]
  },
  {
   "cell_type": "code",
   "execution_count": 5,
   "metadata": {},
   "outputs": [
    {
     "data": {
      "image/png": "[encoded data removed]",
      "text/plain": [
       "<Figure size 432x288 with 1 Axes>"
      ]
     },
     "metadata": {
      "needs_background": "light"
     },
     "output_type": "display_data"
    }
   ],
   "source": [
    "#OIII\n",
    "secz = NGC2174_cal_3_4[\"sec(z)\"].iloc[:7]\n",
    "stellar_signal = NGC2174_cal_3_4[\"Star_DN\"].iloc[:7]  \n",
    "errorbar = NGC2174_cal_3_4[\"Uncertainty\"].iloc[:7]\n",
    "  \n",
    "a, b = np.polyfit(secz, stellar_signal, 1)\n",
    "plt.scatter(secz, stellar_signal)\n",
    "plt.errorbar(secz, stellar_signal, yerr=errorbar, fmt=\"o\")\n",
    "plt.plot(secz, a*(secz)+b) \n",
    "plt.text(1.2, 60000, 'y = ' + '{:.2f}'.format(b) + ' + {:.2f}'.format(a) + 'x', size=10)\n",
    "\n",
    "OIII_f0 = b"
   ]
  },
  {
   "cell_type": "code",
   "execution_count": 6,
   "metadata": {},
   "outputs": [
    {
     "data": {
      "image/png": "[encoded data removed]",
      "text/plain": [
       "<Figure size 432x288 with 1 Axes>"
      ]
     },
     "metadata": {
      "needs_background": "light"
     },
     "output_type": "display_data"
    }
   ],
   "source": [
    "#Halpha\n",
    "secz = NGC2174_cal_3_4[\"sec(z)\"].iloc[7:13]\n",
    "stellar_signal = NGC2174_cal_3_4[\"Star_DN\"].iloc[7:13]  \n",
    "errorbar = NGC2174_cal_3_4[\"Uncertainty\"].iloc[7:13]\n",
    "  \n",
    "a, b = np.polyfit(secz, stellar_signal, 1)\n",
    "plt.scatter(secz, stellar_signal)\n",
    "plt.errorbar(secz, stellar_signal, yerr=errorbar, fmt=\"o\")\n",
    "plt.plot(secz, a*(secz)+b) \n",
    "plt.text(1.3, 36000, 'y = ' + '{:.2f}'.format(b) + ' + {:.2f}'.format(a) + 'x', size=10)\n",
    "\n",
    "Halpha_f0 = b"
   ]
  },
  {
   "cell_type": "code",
   "execution_count": 7,
   "metadata": {},
   "outputs": [
    {
     "data": {
      "image/png": "[encoded data removed]",
      "text/plain": [
       "<Figure size 432x288 with 1 Axes>"
      ]
     },
     "metadata": {
      "needs_background": "light"
     },
     "output_type": "display_data"
    }
   ],
   "source": [
    "#SII\n",
    "secz = NGC2174_cal_3_4[\"sec(z)\"].iloc[13:19]\n",
    "stellar_signal = NGC2174_cal_3_4[\"Star_DN\"].iloc[13:19]  \n",
    "errorbar = NGC2174_cal_3_4[\"Uncertainty\"].iloc[13:19]\n",
    "  \n",
    "a, b = np.polyfit(secz, stellar_signal, 1)\n",
    "plt.scatter(secz, stellar_signal)\n",
    "plt.errorbar(secz, stellar_signal, yerr=errorbar, fmt=\"o\")\n",
    "plt.plot(secz, a*(secz)+b) \n",
    "plt.text(1.3, 45000, 'y = ' + '{:.2f}'.format(b) + ' + {:.2f}'.format(a) + 'x', size=10)\n",
    "\n",
    "SII_f0 = b"
   ]
  },
  {
   "cell_type": "code",
   "execution_count": 8,
   "metadata": {
    "scrolled": true
   },
   "outputs": [
    {
     "data": {
      "image/png": "[encoded data removed]",
      "text/plain": [
       "<Figure size 432x288 with 1 Axes>"
      ]
     },
     "metadata": {
      "needs_background": "light"
     },
     "output_type": "display_data"
    }
   ],
   "source": [
    "#Hbeta\n",
    "secz = NGC2174_cal_3_4[\"sec(z)\"].iloc[19:25]\n",
    "stellar_signal = NGC2174_cal_3_4[\"Star_DN\"].iloc[19:25]  \n",
    "errorbar = NGC2174_cal_3_4[\"Uncertainty\"].iloc[19:25]\n",
    "  \n",
    "a, b = np.polyfit(secz, stellar_signal, 1)\n",
    "plt.scatter(secz, stellar_signal)\n",
    "plt.errorbar(secz, stellar_signal, yerr=errorbar, fmt=\"o\")\n",
    "plt.plot(secz, a*(secz)+b) \n",
    "plt.text(1.3, 45000, 'y = ' + '{:.2f}'.format(b) + ' + {:.2f}'.format(a) + 'x', size=10) \n",
    "\n",
    "Hbeta_f0 = b"
   ]
  },
  {
   "cell_type": "code",
   "execution_count": 9,
   "metadata": {},
   "outputs": [],
   "source": [
    "OIII_f = 4.22e-07\n",
    "Halpha_f = 1.31e-07\n",
    "SII_f = 1.63e-07\n",
    "Hbeta_f = 9.84e-08\n",
    "\n",
    "cal_mag = 9.8"
   ]
  },
  {
   "cell_type": "code",
   "execution_count": 10,
   "metadata": {
    "scrolled": false
   },
   "outputs": [
    {
     "name": "stdout",
     "output_type": "stream",
     "text": [
      "On the night of 3/4:\n",
      "The conversion factor for OIII is 1.004e-14\n",
      "The conversion factor for Halpha is 6.799e-15\n",
      "The conversion factor for SII is 7.503e-15\n",
      "The conversion factor for Hbeta is 3.968e-15\n"
     ]
    }
   ],
   "source": [
    "OIII_conv = ( OIII_f * 10**(-cal_mag/2.5) ) / (OIII_f0/30)\n",
    "Halpha_conv = ( Halpha_f * 10**(-cal_mag/2.5) ) / (Halpha_f0/30)\n",
    "SII_conv = ( SII_f * 10**(-cal_mag/2.5) ) / (SII_f0/30)\n",
    "Hbeta_conv = ( Hbeta_f * 10**(-cal_mag/2.5) ) / (Hbeta_f0/30)\n",
    "\n",
    "print(\"On the night of 3/4:\")\n",
    "print(f\"The conversion factor for OIII is {OIII_conv:.3e}\")\n",
    "print(f\"The conversion factor for Halpha is {Halpha_conv:.3e}\")\n",
    "print(f\"The conversion factor for SII is {SII_conv:.3e}\")\n",
    "print(f\"The conversion factor for Hbeta is {Hbeta_conv:.3e}\")"
   ]
  },
  {
   "cell_type": "code",
   "execution_count": 11,
   "metadata": {},
   "outputs": [
    {
     "data": {
      "image/png": "[encoded data removed]",
      "text/plain": [
       "<Figure size 432x288 with 1 Axes>"
      ]
     },
     "metadata": {
      "needs_background": "light"
     },
     "output_type": "display_data"
    }
   ],
   "source": [
    "#OIII\n",
    "secz = NGC2174_tau_3_4[\"Sec(z)\"].iloc[16:21]\n",
    "stellar_signal = NGC2174_tau_3_4[\"Star [DN]\"].iloc[16:21]  \n",
    "errorbar = NGC2174_tau_3_4[\"Star Uncertainty\"].iloc[16:21]\n",
    "\n",
    "a, b = np.polyfit(secz, stellar_signal, 1)\n",
    "plt.scatter(secz, stellar_signal)\n",
    "plt.errorbar(secz, stellar_signal, yerr=errorbar, fmt=\"o\")\n",
    "plt.plot(secz, a*(secz)+b) \n",
    "plt.text(1.25, 320000, 'y = ' + '{:.2f}'.format(b) + ' + {:.2f}'.format(a) + 'x', size=10)\n",
    "\n",
    "OIII_tau0 = abs(a/b)"
   ]
  },
  {
   "cell_type": "code",
   "execution_count": 12,
   "metadata": {},
   "outputs": [
    {
     "data": {
      "image/png": "[encoded data removed]",
      "text/plain": [
       "<Figure size 432x288 with 1 Axes>"
      ]
     },
     "metadata": {
      "needs_background": "light"
     },
     "output_type": "display_data"
    }
   ],
   "source": [
    "#Halpha\n",
    "secz = NGC2174_tau_3_4[\"Sec(z)\"].iloc[6:11]\n",
    "stellar_signal = NGC2174_tau_3_4[\"Star [DN]\"].iloc[6:11]  \n",
    "errorbar = NGC2174_tau_3_4[\"Star Uncertainty\"].iloc[6:11]\n",
    "\n",
    "a, b = np.polyfit(secz, stellar_signal, 1)\n",
    "plt.scatter(secz, stellar_signal)\n",
    "plt.errorbar(secz, stellar_signal, yerr=errorbar, fmt=\"o\")\n",
    "plt.plot(secz, a*(secz)+b) \n",
    "plt.text(1.34, 140000, 'y = ' + '{:.2f}'.format(b) + ' + {:.2f}'.format(a) + 'x', size=10)\n",
    "\n",
    "Halpha_tau0 = abs(a/b)"
   ]
  },
  {
   "cell_type": "code",
   "execution_count": 13,
   "metadata": {},
   "outputs": [
    {
     "data": {
      "image/png": "[encoded data removed]",
      "text/plain": [
       "<Figure size 432x288 with 1 Axes>"
      ]
     },
     "metadata": {
      "needs_background": "light"
     },
     "output_type": "display_data"
    }
   ],
   "source": [
    "#SII\n",
    "secz = NGC2174_tau_3_4[\"Sec(z)\"].iloc[27:32]\n",
    "stellar_signal = NGC2174_tau_3_4[\"Star [DN]\"].iloc[27:32]  \n",
    "errorbar = NGC2174_tau_3_4[\"Star Uncertainty\"].iloc[27:32]\n",
    "\n",
    "a, b = np.polyfit(secz, stellar_signal, 1)\n",
    "plt.scatter(secz, stellar_signal)\n",
    "plt.errorbar(secz, stellar_signal, yerr=errorbar, fmt=\"o\")\n",
    "plt.plot(secz, a*(secz)+b) \n",
    "plt.text(1.44, 150000, 'y = ' + '{:.2f}'.format(b) + ' + {:.2f}'.format(a) + 'x', size=10)\n",
    "\n",
    "SII_tau0 = abs(a/b)"
   ]
  },
  {
   "cell_type": "code",
   "execution_count": 14,
   "metadata": {},
   "outputs": [
    {
     "data": {
      "image/png": "[encoded data removed]",
      "text/plain": [
       "<Figure size 432x288 with 1 Axes>"
      ]
     },
     "metadata": {
      "needs_background": "light"
     },
     "output_type": "display_data"
    }
   ],
   "source": [
    "#Hbeta\n",
    "secz = NGC2174_tau_3_4[\"Sec(z)\"].iloc[11:16]\n",
    "stellar_signal = NGC2174_tau_3_4[\"Star [DN]\"].iloc[11:16]  \n",
    "errorbar = NGC2174_tau_3_4[\"Star Uncertainty\"].iloc[11:16]\n",
    "\n",
    "a, b = np.polyfit(secz, stellar_signal, 1)\n",
    "plt.scatter(secz, stellar_signal)\n",
    "plt.errorbar(secz, stellar_signal, yerr=errorbar, fmt=\"o\")\n",
    "plt.plot(secz, a*(secz)+b) \n",
    "plt.text(1.59, 160000, 'y = ' + '{:.2f}'.format(b) + ' + {:.2f}'.format(a) + 'x', size=10)\n",
    "\n",
    "Hbeta_tau0 = abs(a/b)"
   ]
  },
  {
   "cell_type": "code",
   "execution_count": 15,
   "metadata": {},
   "outputs": [
    {
     "data": {
      "image/png": "[encoded data removed]",
      "text/plain": [
       "<Figure size 432x288 with 1 Axes>"
      ]
     },
     "metadata": {
      "needs_background": "light"
     },
     "output_type": "display_data"
    }
   ],
   "source": [
    "#Blue\n",
    "secz = NGC2174_tau_3_4[\"Sec(z)\"].iloc[:3]\n",
    "stellar_signal = NGC2174_tau_3_4[\"Star [DN]\"].iloc[:3]  \n",
    "errorbar = NGC2174_tau_3_4[\"Star Uncertainty\"].iloc[:3]\n",
    "\n",
    "a, b = np.polyfit(secz, stellar_signal, 1)\n",
    "plt.scatter(secz, stellar_signal)\n",
    "plt.errorbar(secz, stellar_signal, yerr=errorbar, fmt=\"o\")\n",
    "plt.plot(secz, a*(secz)+b) \n",
    "plt.text(1.767, 215000, 'y = ' + '{:.2f}'.format(b) + ' + {:.2f}'.format(a) + 'x', size=10)\n",
    "\n",
    "Blue_tau0 = abs(a/b)"
   ]
  },
  {
   "cell_type": "code",
   "execution_count": 16,
   "metadata": {},
   "outputs": [
    {
     "data": {
      "image/png": "[encoded data removed]",
      "text/plain": [
       "<Figure size 432x288 with 1 Axes>"
      ]
     },
     "metadata": {
      "needs_background": "light"
     },
     "output_type": "display_data"
    }
   ],
   "source": [
    "#Green\n",
    "secz = NGC2174_tau_3_16[\"Sec(z)\"].iloc[3:6]\n",
    "stellar_signal = NGC2174_tau_3_16[\"Star [DN]\"].iloc[3:6]  \n",
    "errorbar = NGC2174_tau_3_16[\"Star Uncertainty\"].iloc[3:6]\n",
    "\n",
    "a, b = np.polyfit(secz, stellar_signal, 1)\n",
    "plt.scatter(secz, stellar_signal)\n",
    "plt.errorbar(secz, stellar_signal, yerr=errorbar, fmt=\"o\")\n",
    "plt.plot(secz, a*(secz)+b) \n",
    "plt.text(1.477, 506000, 'y = ' + '{:.2f}'.format(b) + ' + {:.2f}'.format(a) + 'x', size=10)\n",
    "\n",
    "Green_tau0 = abs(a/b)"
   ]
  },
  {
   "cell_type": "code",
   "execution_count": 17,
   "metadata": {},
   "outputs": [
    {
     "data": {
      "image/png": "[encoded data removed]",
      "text/plain": [
       "<Figure size 432x288 with 1 Axes>"
      ]
     },
     "metadata": {
      "needs_background": "light"
     },
     "output_type": "display_data"
    }
   ],
   "source": [
    "#Red\n",
    "secz = NGC2174_tau_3_4[\"Sec(z)\"].iloc[21:27]\n",
    "stellar_signal = NGC2174_tau_3_4[\"Star [DN]\"].iloc[21:27]  \n",
    "errorbar = NGC2174_tau_3_4[\"Star Uncertainty\"].iloc[21:27]\n",
    "\n",
    "a, b = np.polyfit(secz, stellar_signal, 1)\n",
    "plt.scatter(secz, stellar_signal)\n",
    "plt.errorbar(secz, stellar_signal, yerr=errorbar, fmt=\"o\")\n",
    "plt.plot(secz, a*(secz)+b) \n",
    "plt.text(1.4, 1.3e6, 'y = ' + '{:.2f}'.format(b) + ' + {:.2f}'.format(a) + 'x', size=10)\n",
    "\n",
    "Red_tau0 = abs(a/b)"
   ]
  },
  {
   "cell_type": "code",
   "execution_count": 18,
   "metadata": {},
   "outputs": [],
   "source": [
    "OIII_secz0 = 1.240119705\n",
    "Halpha_secz0 = 1.322792928\n",
    "SII_secz0 = 1.429610985\n",
    "Hbeta_secz0 = 1.57105529\n",
    "L_secz0 = 1.023106953\n",
    "B_secz0 = 1.046789283\n",
    "G_secz0 = 1.47625206\n",
    "R_secz0 = 1.84114776"
   ]
  },
  {
   "cell_type": "code",
   "execution_count": 22,
   "metadata": {
    "scrolled": true
   },
   "outputs": [
    {
     "name": "stdout",
     "output_type": "stream",
     "text": [
      "For NGC2174 on the night of 3/4, correcting for atmosphere factor is:\n",
      "factor for OIII is 1.792e-01\n",
      "factor for Halpha is 1.533e-01\n",
      "factor for SII is 2.419e-01\n",
      "factor for Hbeta is 7.637e-01\n",
      "\n",
      "On both nights, correcting for atmosphere factor is:\n",
      "factor for B is 4.735e-01\n",
      "factor for G is 3.462e-01\n",
      "factor for R is 4.890e-01\n"
     ]
    }
   ],
   "source": [
    "print(\"For NGC2174 on the night of 3/4, correcting for atmosphere factor is:\")\n",
    "print(f\"factor for OIII is {(1-(OIII_tau0*OIII_secz0)):.3e}\")\n",
    "print(f\"factor for Halpha is {(1-(Halpha_tau0*Halpha_secz0)):.3e}\")\n",
    "print(f\"factor for SII is {(1-(SII_tau0*SII_secz0)):.3e}\")\n",
    "print(f\"factor for Hbeta is {(1-(Hbeta_tau0*Hbeta_secz0)):.3e}\")\n",
    "print()\n",
    "print(\"On both nights, correcting for atmosphere factor is:\")\n",
    "print(f\"factor for B is {(1-(Blue_tau0*B_secz0)):.3e}\")\n",
    "print(f\"factor for G is {(1-(Green_tau0*G_secz0)):.3e}\")\n",
    "print(f\"factor for R is {(1-(Red_tau0*R_secz0)):.3e}\")"
   ]
  },
  {
   "cell_type": "code",
   "execution_count": 23,
   "metadata": {},
   "outputs": [],
   "source": [
    "#NGC2174_tau_3_4"
   ]
  },
  {
   "cell_type": "markdown",
   "metadata": {},
   "source": [
    "### For 3/16"
   ]
  },
  {
   "cell_type": "code",
   "execution_count": 24,
   "metadata": {},
   "outputs": [
    {
     "data": {
      "image/png": "[encoded data removed]",
      "text/plain": [
       "<Figure size 432x288 with 1 Axes>"
      ]
     },
     "metadata": {
      "needs_background": "light"
     },
     "output_type": "display_data"
    }
   ],
   "source": [
    "#OIII\n",
    "secz = NGC2174_cal_3_16[\"Sec(z)\"].iloc[:6]\n",
    "stellar_signal = NGC2174_cal_3_16[\"Star [DN]\"].iloc[:6]  \n",
    "errorbar = NGC2174_cal_3_16[\"Star Uncertainty\"].iloc[:6]\n",
    "  \n",
    "a, b = np.polyfit(secz, stellar_signal, 1)\n",
    "plt.scatter(secz, stellar_signal)\n",
    "plt.errorbar(secz, stellar_signal, yerr=errorbar, fmt=\"o\")\n",
    "plt.plot(secz, a*(secz)+b) \n",
    "plt.text(1.2, 85000, 'y = ' + '{:.2f}'.format(b) + ' + {:.2f}'.format(a) + 'x', size=10)\n",
    "\n",
    "OIII_f0 = b"
   ]
  },
  {
   "cell_type": "code",
   "execution_count": 25,
   "metadata": {},
   "outputs": [
    {
     "data": {
      "image/png": "[encoded data removed]",
      "text/plain": [
       "<Figure size 432x288 with 1 Axes>"
      ]
     },
     "metadata": {
      "needs_background": "light"
     },
     "output_type": "display_data"
    }
   ],
   "source": [
    "#Halpha\n",
    "secz = NGC2174_cal_3_16[\"Sec(z)\"].iloc[6:12]\n",
    "stellar_signal = NGC2174_cal_3_16[\"Star [DN]\"].iloc[6:12]  \n",
    "errorbar = NGC2174_cal_3_16[\"Star Uncertainty\"].iloc[6:12]\n",
    "  \n",
    "a, b = np.polyfit(secz, stellar_signal, 1)\n",
    "plt.scatter(secz, stellar_signal)\n",
    "plt.errorbar(secz, stellar_signal, yerr=errorbar, fmt=\"o\")\n",
    "plt.plot(secz, a*(secz)+b) \n",
    "plt.text(1.2, 47500, 'y = ' + '{:.2f}'.format(b) + ' + {:.2f}'.format(a) + 'x', size=10)\n",
    "\n",
    "Halpha_f0 = b"
   ]
  },
  {
   "cell_type": "code",
   "execution_count": 26,
   "metadata": {},
   "outputs": [
    {
     "data": {
      "image/png": "[encoded data removed]",
      "text/plain": [
       "<Figure size 432x288 with 1 Axes>"
      ]
     },
     "metadata": {
      "needs_background": "light"
     },
     "output_type": "display_data"
    }
   ],
   "source": [
    "#SII\n",
    "secz = NGC2174_cal_3_16[\"Sec(z)\"].iloc[12:18]\n",
    "stellar_signal = NGC2174_cal_3_16[\"Star [DN]\"].iloc[12:18]  \n",
    "errorbar = NGC2174_cal_3_16[\"Star Uncertainty\"].iloc[12:18]\n",
    "  \n",
    "a, b = np.polyfit(secz, stellar_signal, 1)\n",
    "plt.scatter(secz, stellar_signal)\n",
    "plt.errorbar(secz, stellar_signal, yerr=errorbar, fmt=\"o\")\n",
    "plt.plot(secz, a*(secz)+b) \n",
    "plt.text(1.2, 56500, 'y = ' + '{:.2f}'.format(b) + ' + {:.2f}'.format(a) + 'x', size=10)\n",
    "\n",
    "SII_f0 = b"
   ]
  },
  {
   "cell_type": "code",
   "execution_count": 27,
   "metadata": {},
   "outputs": [
    {
     "data": {
      "image/png": "[encoded data removed]",
      "text/plain": [
       "<Figure size 432x288 with 1 Axes>"
      ]
     },
     "metadata": {
      "needs_background": "light"
     },
     "output_type": "display_data"
    }
   ],
   "source": [
    "#Hbeta\n",
    "secz = NGC2174_cal_3_16[\"Sec(z)\"].iloc[18:24]\n",
    "stellar_signal = NGC2174_cal_3_16[\"Star [DN]\"].iloc[18:24]  \n",
    "errorbar = NGC2174_cal_3_16[\"Star Uncertainty\"].iloc[18:24]\n",
    "  \n",
    "a, b = np.polyfit(secz, stellar_signal, 1)\n",
    "plt.scatter(secz, stellar_signal)\n",
    "plt.errorbar(secz, stellar_signal, yerr=errorbar, fmt=\"o\")\n",
    "plt.plot(secz, a*(secz)+b) \n",
    "plt.text(1.2, 58500, 'y = ' + '{:.2f}'.format(b) + ' + {:.2f}'.format(a) + 'x', size=10)\n",
    "\n",
    "Hbeta_f0 = b"
   ]
  },
  {
   "cell_type": "code",
   "execution_count": 28,
   "metadata": {},
   "outputs": [
    {
     "name": "stdout",
     "output_type": "stream",
     "text": [
      "On the night of 3/16:\n",
      "The conversion factor for OIII is 1.397e-14\n",
      "The conversion factor for Halpha is 8.554e-15\n",
      "The conversion factor for SII is 9.258e-15\n",
      "The conversion factor for Hbeta is 4.922e-15\n"
     ]
    }
   ],
   "source": [
    "OIII_conv = ( OIII_f * 10**(-cal_mag/2.5) ) / (OIII_f0/30)\n",
    "Halpha_conv = ( Halpha_f * 10**(-cal_mag/2.5) ) / (Halpha_f0/30)\n",
    "SII_conv = ( SII_f * 10**(-cal_mag/2.5) ) / (SII_f0/30)\n",
    "Hbeta_conv = ( Hbeta_f * 10**(-cal_mag/2.5) ) / (Hbeta_f0/30)\n",
    "\n",
    "print(\"On the night of 3/16:\")\n",
    "print(f\"The conversion factor for OIII is {OIII_conv:.3e}\")\n",
    "print(f\"The conversion factor for Halpha is {Halpha_conv:.3e}\")\n",
    "print(f\"The conversion factor for SII is {SII_conv:.3e}\")\n",
    "print(f\"The conversion factor for Hbeta is {Hbeta_conv:.3e}\")"
   ]
  },
  {
   "cell_type": "code",
   "execution_count": 29,
   "metadata": {},
   "outputs": [],
   "source": [
    "#NGC2174_tau_3_16"
   ]
  },
  {
   "cell_type": "code",
   "execution_count": 30,
   "metadata": {},
   "outputs": [
    {
     "data": {
      "image/png": "[encoded data removed]",
      "text/plain": [
       "<Figure size 432x288 with 1 Axes>"
      ]
     },
     "metadata": {
      "needs_background": "light"
     },
     "output_type": "display_data"
    }
   ],
   "source": [
    "#OIII\n",
    "secz = NGC2174_tau_3_16[\"Sec(z)\"].iloc[16:21]\n",
    "stellar_signal = NGC2174_tau_3_16[\"Star [DN]\"].iloc[16:21]  \n",
    "errorbar = NGC2174_tau_3_16[\"Star Uncertainty\"].iloc[16:21]\n",
    "\n",
    "a, b = np.polyfit(secz, stellar_signal, 1)\n",
    "plt.scatter(secz, stellar_signal)\n",
    "plt.errorbar(secz, stellar_signal, yerr=errorbar, fmt=\"o\")\n",
    "plt.plot(secz, a*(secz)+b) \n",
    "plt.text(1.152, 365500, 'y = ' + '{:.2f}'.format(b) + ' + {:.2f}'.format(a) + 'x', size=10)\n",
    "\n",
    "OIII_tau0 = abs(a/b)"
   ]
  },
  {
   "cell_type": "code",
   "execution_count": 31,
   "metadata": {},
   "outputs": [
    {
     "data": {
      "image/png": "[encoded data removed]",
      "text/plain": [
       "<Figure size 432x288 with 1 Axes>"
      ]
     },
     "metadata": {
      "needs_background": "light"
     },
     "output_type": "display_data"
    }
   ],
   "source": [
    "#Halpha\n",
    "secz = NGC2174_tau_3_16[\"Sec(z)\"].iloc[6:11]\n",
    "stellar_signal = NGC2174_tau_3_16[\"Star [DN]\"].iloc[6:11]  \n",
    "errorbar = NGC2174_tau_3_16[\"Star Uncertainty\"].iloc[6:11]\n",
    "\n",
    "a, b = np.polyfit(secz, stellar_signal, 1)\n",
    "plt.scatter(secz, stellar_signal)\n",
    "plt.errorbar(secz, stellar_signal, yerr=errorbar, fmt=\"o\")\n",
    "plt.plot(secz, a*(secz)+b) \n",
    "plt.text(1.19, 227000, 'y = ' + '{:.2f}'.format(b) + ' + {:.2f}'.format(a) + 'x', size=10)\n",
    "\n",
    "Halpha_tau0 = abs(a/b)"
   ]
  },
  {
   "cell_type": "code",
   "execution_count": 32,
   "metadata": {},
   "outputs": [
    {
     "data": {
      "image/png": "[encoded data removed]",
      "text/plain": [
       "<Figure size 432x288 with 1 Axes>"
      ]
     },
     "metadata": {
      "needs_background": "light"
     },
     "output_type": "display_data"
    }
   ],
   "source": [
    "#SII\n",
    "secz = NGC2174_tau_3_16[\"Sec(z)\"].iloc[24:29]\n",
    "stellar_signal = NGC2174_tau_3_16[\"Star [DN]\"].iloc[24:29]  \n",
    "errorbar = NGC2174_tau_3_16[\"Star Uncertainty\"].iloc[24:29]\n",
    "\n",
    "a, b = np.polyfit(secz, stellar_signal, 1)\n",
    "plt.scatter(secz, stellar_signal)\n",
    "plt.errorbar(secz, stellar_signal, yerr=errorbar, fmt=\"o\")\n",
    "plt.plot(secz, a*(secz)+b) \n",
    "plt.text(1.27, 271400, 'y = ' + '{:.2f}'.format(b) + ' + {:.2f}'.format(a) + 'x', size=10)\n",
    "\n",
    "SII_tau0 = abs(a/b)"
   ]
  },
  {
   "cell_type": "code",
   "execution_count": 33,
   "metadata": {
    "scrolled": false
   },
   "outputs": [
    {
     "data": {
      "image/png": "[encoded data removed]",
      "text/plain": [
       "<Figure size 432x288 with 1 Axes>"
      ]
     },
     "metadata": {
      "needs_background": "light"
     },
     "output_type": "display_data"
    }
   ],
   "source": [
    "#Hbeta\n",
    "secz = NGC2174_tau_3_16[\"Sec(z)\"].iloc[11:16]\n",
    "stellar_signal = NGC2174_tau_3_16[\"Star [DN]\"].iloc[11:16]  \n",
    "errorbar = NGC2174_tau_3_16[\"Star Uncertainty\"].iloc[11:16]\n",
    "\n",
    "a, b = np.polyfit(secz, stellar_signal, 1)\n",
    "plt.scatter(secz, stellar_signal)\n",
    "plt.errorbar(secz, stellar_signal, yerr=errorbar, fmt=\"o\")\n",
    "plt.plot(secz, a*(secz)+b) \n",
    "plt.text(1.36, 267000, 'y = ' + '{:.2f}'.format(b) + ' + {:.2f}'.format(a) + 'x', size=10)\n",
    "\n",
    "Hbeta_tau0 = abs(a/b)"
   ]
  },
  {
   "cell_type": "code",
   "execution_count": 34,
   "metadata": {},
   "outputs": [],
   "source": [
    "OIII_secz0 = 1.139329232\n",
    "Halpha_secz0 = 1.187294094\n",
    "SII_secz0 = 1.250580259\n",
    "Hbeta_secz0 = 1.340230424"
   ]
  },
  {
   "cell_type": "code",
   "execution_count": 36,
   "metadata": {},
   "outputs": [
    {
     "name": "stdout",
     "output_type": "stream",
     "text": [
      "For NGC2174 on the night of 3/16, correcting for atmosphere factor is:\n",
      "factor for OIII is 8.502e-01\n",
      "factor for Halpha is 9.079e-01\n",
      "factor for SII is 9.238e-01\n",
      "factor for Hbeta is 6.496e-01\n"
     ]
    }
   ],
   "source": [
    "print(\"For NGC2174 on the night of 3/16, correcting for atmosphere factor is:\")\n",
    "print(f\"factor for OIII is {(1-(OIII_tau0*OIII_secz0)):.3e}\")\n",
    "print(f\"factor for Halpha is {(1-(Halpha_tau0*Halpha_secz0)):.3e}\")\n",
    "print(f\"factor for SII is {(1-(SII_tau0*SII_secz0)):.3e}\")\n",
    "print(f\"factor for Hbeta is {(1-(Hbeta_tau0*Hbeta_secz0)):.3e}\")"
   ]
  },
  {
   "cell_type": "code",
   "execution_count": null,
   "metadata": {},
   "outputs": [],
   "source": []
  },
  {
   "cell_type": "code",
   "execution_count": null,
   "metadata": {},
   "outputs": [],
   "source": []
  },
  {
   "cell_type": "code",
   "execution_count": null,
   "metadata": {},
   "outputs": [],
   "source": []
  },
  {
   "cell_type": "code",
   "execution_count": null,
   "metadata": {},
   "outputs": [],
   "source": []
  }
 ],
 "metadata": {
  "kernelspec": {
   "display_name": "Python 3",
   "language": "python",
   "name": "python3"
  },
  "language_info": {
   "codemirror_mode": {
    "name": "ipython",
    "version": 3
   },
   "file_extension": ".py",
   "mimetype": "text/x-python",
   "name": "python",
   "nbconvert_exporter": "python",
   "pygments_lexer": "ipython3",
   "version": "3.8.5"
  }
 },
 "nbformat": 4,
 "nbformat_minor": 4
}
